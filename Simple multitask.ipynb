{
 "cells": [
  {
   "cell_type": "code",
   "execution_count": 99,
   "metadata": {},
   "outputs": [],
   "source": [
    "from random import choice\n",
    "def turn(angle):\n",
    "    # Receive an angle to turn, from -180 to 180\n",
    "    # angle=0 keep in the same direction\n",
    "    pass\n",
    "\n",
    "turn(randrange(90, 180)*choice([-1, 1]))"
   ]
  },
  {
   "cell_type": "code",
   "execution_count": 77,
   "metadata": {},
   "outputs": [
    {
     "data": {
      "text/plain": [
       "0"
      ]
     },
     "execution_count": 77,
     "metadata": {},
     "output_type": "execute_result"
    }
   ],
   "source": [
    "randrange(90, 180)*randrange(-1, 1)"
   ]
  },
  {
   "cell_type": "code",
   "execution_count": 14,
   "metadata": {},
   "outputs": [
    {
     "name": "stdout",
     "output_type": "stream",
     "text": [
      "begin readGY521...\n",
      "begin readCamera...\n",
      "...Finishing readCamera\n",
      "...Finishing readGY521\n",
      "Memorable image, with temperature  {'temperature': 6, 'pressure': 66, 'humidity': 666} ºC\n",
      "-----------------\n"
     ]
    }
   ],
   "source": [
    "import concurrent.futures\n",
    "import time\n",
    "import random\n",
    "\n",
    "def readGY521():\n",
    "    print(\"begin readGY521...\")\n",
    "    time.sleep(2)\n",
    "    print(\"...Finishing readGY521\")\n",
    "    dict = {\n",
    "      \"temperature\": 6,\n",
    "      \"pressure\": 66,\n",
    "      \"humidity\": 666\n",
    "    }\n",
    "    return dict\n",
    "\n",
    "def readCamera():\n",
    "    print(\"begin readCamera...\")\n",
    "    time.sleep(1)\n",
    "    print(\"...Finishing readCamera\")\n",
    "    return random.randrange(2)\n",
    "\n",
    "# TODO: This should be an specialization of RememberingPolicy class\n",
    "class PolicyShape():\n",
    "    _name = None\n",
    "    def __init__(self, name='name'):\n",
    "        self._name = name\n",
    "    def validate (img):\n",
    "        # do CV\n",
    "        return True\n",
    "\n",
    "executor = concurrent.futures.ThreadPoolExecutor()\n",
    "policy = PolicyShape()\n",
    "for i in range(0,1): #while(1)\n",
    "    future1 = executor.submit(readGY521)\n",
    "    future2 = executor.submit(readCamera)\n",
    "    while not (future1.done() & future2.done()): continue\n",
    "    if future2.result():\n",
    "        print ('Memorable image, with temperature ', future1.result(), 'ºC' )\n",
    "    else:\n",
    "        print ('temprature ', future1.result(), 'ºC' )\n",
    "    print('-----------------')\n",
    "    #print(future1.result(), future2.result())"
   ]
  }
 ],
 "metadata": {
  "kernelspec": {
   "display_name": "Python 3",
   "language": "python",
   "name": "python3"
  },
  "language_info": {
   "codemirror_mode": {
    "name": "ipython",
    "version": 3
   },
   "file_extension": ".py",
   "mimetype": "text/x-python",
   "name": "python",
   "nbconvert_exporter": "python",
   "pygments_lexer": "ipython3",
   "version": "3.7.6"
  }
 },
 "nbformat": 4,
 "nbformat_minor": 4
}
