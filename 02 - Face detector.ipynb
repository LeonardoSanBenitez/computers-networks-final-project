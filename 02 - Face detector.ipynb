{
 "cells": [
  {
   "cell_type": "markdown",
   "metadata": {},
   "source": [
    "Based on: https://towardsdatascience.com/face-detection-in-2-minutes-using-opencv-python-90f89d7c0f81"
   ]
  },
  {
   "cell_type": "code",
   "execution_count": null,
   "metadata": {},
   "outputs": [],
   "source": [
    "# Global variables\n",
    "path_out = 'assets/'\n",
    "path_in = 'assets/img5_pentagonTOOOP.jpg' # in case we are reading from disk, not from camera\n",
    "path_model = 'assets/models/haarcascade_frontalface_default.xml'\n",
    "\n",
    "\n",
    "imgWidht = 320\n",
    "imgHeight = 240\n",
    "\n",
    "class Flags:\n",
    "    export = True\n",
    "    onRaspberry = False\n",
    "flags=Flags()   "
   ]
  },
  {
   "cell_type": "code",
   "execution_count": null,
   "metadata": {},
   "outputs": [],
   "source": [
    "import cv2\n",
    "import numpy as np\n",
    "\n",
    "if flags.onRaspberry:\n",
    "    import time\n",
    "    from picamera import PiCamera\n",
    "else:\n",
    "    import matplotlib.pyplot as plt"
   ]
  },
  {
   "cell_type": "markdown",
   "metadata": {},
   "source": [
    "\n",
    "IMREAD_UNCHANGED (<0) loads the image as is (including the alpha channel if present)\n",
    "IMREAD_GRAYSCALE ( 0) loads the image as an intensity one\n",
    "IMREAD_COLOR (>0) loads the image in the RGB format\n",
    "\n",
    "\n",
    "detector tutrial: https://www.bogotobogo.com/python/OpenCV_Python/python_opencv3_Image_Object_Detection_Face_Detection_Haar_Cascade_Classifiers.php"
   ]
  },
  {
   "cell_type": "code",
   "execution_count": null,
   "metadata": {},
   "outputs": [],
   "source": [
    "face_cascade = cv2.CascadeClassifier(path_model)\n",
    "img = cv2.imread(path_in, cv2.IMREAD_COLOR)\n",
    "assert type(img)!=type(None), ('invalid image')\n",
    "\n",
    "gray = cv2.cvtColor(img, cv2.COLOR_RGB2GRAY)\n",
    "faces = face_cascade.detectMultiScale(gray, 1.3, 5)\n",
    "print(faces)\n",
    "\n",
    "# Draw rectangle around the faces\n",
    "for (x, y, w, h) in faces:\n",
    "    cv2.rectangle(img, (x, y), (x+w, y+h), (0, 0, 255), 5)\n",
    "\n",
    "# Display the output\n",
    "plt.imshow(cv2.cvtColor(img[50:,:,:], cv2. COLOR_BGR2RGB))\n",
    "plt.savefig('assets/my_photo.png', dpi=600)\n",
    "#plt.imshow(img)"
   ]
  },
  {
   "cell_type": "code",
   "execution_count": null,
   "metadata": {},
   "outputs": [],
   "source": [
    "img.shape"
   ]
  }
 ],
 "metadata": {
  "kernelspec": {
   "display_name": "Python 3",
   "language": "python",
   "name": "python3"
  },
  "language_info": {
   "codemirror_mode": {
    "name": "ipython",
    "version": 3
   },
   "file_extension": ".py",
   "mimetype": "text/x-python",
   "name": "python",
   "nbconvert_exporter": "python",
   "pygments_lexer": "ipython3",
   "version": "3.7.6"
  }
 },
 "nbformat": 4,
 "nbformat_minor": 4
}
